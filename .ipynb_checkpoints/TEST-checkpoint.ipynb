{
 "cells": [
  {
   "cell_type": "code",
   "execution_count": 2,
   "id": "c5cd66b5",
   "metadata": {},
   "outputs": [
    {
     "name": "stdout",
     "output_type": "stream",
     "text": [
      "/Users/tejasbk/Documents/code/plantDiseaseDetection/plantDiseaseDetection\n"
     ]
    }
   ],
   "source": [
    "from pathlib import Path\n",
    "print(Path.cwd())\n"
   ]
  },
  {
   "cell_type": "code",
   "execution_count": 3,
   "id": "f713218d",
   "metadata": {},
   "outputs": [],
   "source": [
    "import cv2 \n",
    "import matplotlib.pyplot as plt \n",
    "import numpy as np \n",
    "import os, io"
   ]
  },
  {
   "cell_type": "code",
   "execution_count": 9,
   "id": "746836ba",
   "metadata": {},
   "outputs": [
    {
     "ename": "error",
     "evalue": "OpenCV(4.8.1) /Users/xperience/GHA-OpenCV-Python/_work/opencv-python/opencv-python/opencv/modules/imgproc/src/clahe.cpp:353: error: (-215:Assertion failed) _src.type() == CV_8UC1 || _src.type() == CV_16UC1 in function 'apply'\n",
     "output_type": "error",
     "traceback": [
      "\u001b[0;31m---------------------------------------------------------------------------\u001b[0m",
      "\u001b[0;31merror\u001b[0m                                     Traceback (most recent call last)",
      "Cell \u001b[0;32mIn[9], line 13\u001b[0m\n\u001b[1;32m     11\u001b[0m img \u001b[38;5;241m=\u001b[39m cv2\u001b[38;5;241m.\u001b[39mimread(f, cv2\u001b[38;5;241m.\u001b[39mIMREAD_COLOR)\n\u001b[1;32m     12\u001b[0m clahe \u001b[38;5;241m=\u001b[39m cv2\u001b[38;5;241m.\u001b[39mcreateCLAHE(clipLimit\u001b[38;5;241m=\u001b[39m\u001b[38;5;241m3.0\u001b[39m, tileGridSize\u001b[38;5;241m=\u001b[39m(\u001b[38;5;241m8\u001b[39m,\u001b[38;5;241m8\u001b[39m))\n\u001b[0;32m---> 13\u001b[0m cl1 \u001b[38;5;241m=\u001b[39m clahe\u001b[38;5;241m.\u001b[39mapply(img)\n\u001b[1;32m     16\u001b[0m plt\u001b[38;5;241m.\u001b[39msubplot(\u001b[38;5;241m1\u001b[39m, \u001b[38;5;241m2\u001b[39m, \u001b[38;5;241m1\u001b[39m) \n\u001b[1;32m     17\u001b[0m plt\u001b[38;5;241m.\u001b[39mimshow(img)\n",
      "\u001b[0;31merror\u001b[0m: OpenCV(4.8.1) /Users/xperience/GHA-OpenCV-Python/_work/opencv-python/opencv-python/opencv/modules/imgproc/src/clahe.cpp:353: error: (-215:Assertion failed) _src.type() == CV_8UC1 || _src.type() == CV_16UC1 in function 'apply'\n"
     ]
    }
   ],
   "source": [
    "directory = 'AH'\n",
    "i = 0\n",
    "for filename in os.listdir(directory):\n",
    "    f = os.path.join(directory, filename)\n",
    "\n",
    "    name = filename\n",
    "    img = cv2.imread(f,0)\n",
    "    \n",
    "    name = filename\n",
    "    img = cv2.imread(f,0)\n",
    "    clahe = cv2.createCLAHE(clipLimit=3.0, tileGridSize=(8,8))\n",
    "    cl1 = clahe.apply(img)\n",
    "    \n",
    "    img = cv2.imread(f, cv2.IMREAD_COLOR)\n",
    "    plt.subplot(1, 2, 1) \n",
    "    plt.imshow(img)\n",
    "    plt.title(\"Before\")\n",
    "    \n",
    "    plt.subplot(1, 2, 2) \n",
    "    plt.imshow(cl1)\n",
    "    plt.title(\"After\")\n",
    "    \n",
    "    \n",
    "    \n",
    "    i = i+1\n",
    "    if(i == 1):\n",
    "        break"
   ]
  },
  {
   "cell_type": "code",
   "execution_count": null,
   "id": "562a174d",
   "metadata": {},
   "outputs": [],
   "source": []
  }
 ],
 "metadata": {
  "kernelspec": {
   "display_name": "Python 3 (ipykernel)",
   "language": "python",
   "name": "python3"
  },
  "language_info": {
   "codemirror_mode": {
    "name": "ipython",
    "version": 3
   },
   "file_extension": ".py",
   "mimetype": "text/x-python",
   "name": "python",
   "nbconvert_exporter": "python",
   "pygments_lexer": "ipython3",
   "version": "3.11.5"
  }
 },
 "nbformat": 4,
 "nbformat_minor": 5
}
